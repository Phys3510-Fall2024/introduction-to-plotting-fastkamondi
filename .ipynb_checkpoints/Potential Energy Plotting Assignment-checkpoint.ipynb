{
 "cells": [
  {
   "cell_type": "markdown",
   "id": "d9e5c444-fc17-499a-a1a7-b2a84322e7ca",
   "metadata": {},
   "source": [
    "## Contour Plot with Potential Energy Function\n",
    "$$ U(Q_1, Q_2) = \\frac{1}{2}K_1 Q_1^2 + \\frac{1}{2}K_2 Q_2^2 + \\frac{1}{2}C Q_1 Q_2^2 $$\n",
    "\n",
    "### Plan:\n",
    "\n",
    "1. Import `numpy`, `matplotlib`, `ipywidgets`\n",
    "2. Define potential energy\n",
    "3. Define meshes for $Q_1$ and $Q_2$ $\\rightarrow$ `np.meshgrid`\n",
    "4. Plot contours with `contourf`\n",
    "5. Use `ipywidgets` to create interactive plots"
   ]
  },
  {
   "cell_type": "code",
   "execution_count": 22,
   "id": "08c6a965-f5b7-4199-8659-d95664d09042",
   "metadata": {},
   "outputs": [],
   "source": [
    "# import necessary libraries\n",
    "import numpy as np\n",
    "import matplotlib.pyplot as plt\n",
    "import ipywidgets as widgets"
   ]
  },
  {
   "cell_type": "code",
   "execution_count": 21,
   "id": "b917569d-9b78-4a04-971e-5d18ad568878",
   "metadata": {},
   "outputs": [
    {
     "name": "stdout",
     "output_type": "stream",
     "text": [
      "2.5\n"
     ]
    }
   ],
   "source": [
    "# define potential energy function\n",
    "def potential_energy(q1, q2, k1 = 1.0, k2 = 1.0, c = 0):\n",
    "    return 0.5 * (k1 * q1**2 + k2 * q2**2 + c * q1 * q2**2)\n",
    "\n",
    "# test function\n",
    "print(potential_energy(1,2))"
   ]
  },
  {
   "cell_type": "code",
   "execution_count": 53,
   "id": "0ee6926e-9e08-4794-a52c-c24a20c55d3d",
   "metadata": {},
   "outputs": [],
   "source": [
    "# define mesh for plotting\n",
    "q1 = np.linspace(-5, 5, 10)\n",
    "q2 = np.linspace(-5, 5, 10)\n",
    "\n",
    "Q1,Q2 = np.meshgrid(q1,q2)\n",
    "\n",
    "Z0 = potential_energy(Q1,0)"
   ]
  },
  {
   "cell_type": "code",
   "execution_count": 59,
   "id": "a5718a9d-c97b-4324-a377-ea4732df9f55",
   "metadata": {},
   "outputs": [
    {
     "data": {
      "image/png": "[encoded data removed]",
      "text/plain": [
       "<Figure size 400x350 with 2 Axes>"
      ]
     },
     "metadata": {},
     "output_type": "display_data"
    }
   ],
   "source": [
    "# construct contour plot with Q2 = 0\n",
    "plt.figure(figsize = (4,3.5))\n",
    "plt.contourf(Q1,Q2,Z0)\n",
    "\n",
    "plt.title(\"Potential Energy of a Harmonic Oscillator\")\n",
    "\n",
    "plt.xlim([-5,5])\n",
    "plt.ylim([-5,5])\n",
    "\n",
    "plt.xlabel(\"$Q_1$ (units)\")\n",
    "plt.ylabel(\"$Q_2$ = 0 (units)\")\n",
    "\n",
    "plt.colorbar(label = \"Potential Energy (units)\")\n",
    "\n",
    "plt.show()"
   ]
  },
  {
   "cell_type": "code",
   "execution_count": 70,
   "id": "ec5d569d-bd79-4d82-b562-147dc81745fc",
   "metadata": {},
   "outputs": [],
   "source": [
    "# interactive plot with changeable values for Q1, Q2, etc.\n",
    "def plot_potential(k1 = 1.0, k2 = 1.0, c = 0.0, n_points = 50, n_contours = 10):\n",
    "    # define mesh for plotting\n",
    "    q1 = np.linspace(-5, 5, n_points)\n",
    "    Q1, Q2 = np.meshgrid(q1, q2)\n",
    "    Z = potential_energy(Q1, Q2, k1, k2, c)\n",
    "\n",
    "    # construct contour plot\n",
    "    plt.figure(figsize = (4,3.5))\n",
    "    plt.contourf(Q1, Q2, Z, levels = n_contours)\n",
    "    \n",
    "    plt.title(\"Potential Energy of a Couple Oscillator\")\n",
    "    plt.xlabel(\"Q1 (units)\")\n",
    "    plt.ylabel(\"Q2 (units)\")\n",
    "    plt.colorbar(label = \"Potential Energy (units)\")\n",
    "    \n",
    "    plt.show()"
   ]
  },
  {
   "cell_type": "code",
   "execution_count": 72,
   "id": "0449bde8-a465-4059-9878-cd5a3265a3f3",
   "metadata": {},
   "outputs": [
    {
     "data": {
      "application/vnd.jupyter.widget-view+json": {
       "model_id": "337aeed7c82f4130b2cf25c1f01a4b8d",
       "version_major": 2,
       "version_minor": 0
      },
      "text/plain": [
       "interactive(children=(FloatSlider(value=1.0, description='$k_1$', max=5.0), FloatSlider(value=1.0, description…"
      ]
     },
     "metadata": {},
     "output_type": "display_data"
    },
    {
     "data": {
      "text/plain": [
       "<function __main__.plot_potential(k1=1.0, k2=1.0, c=0.0, n_points=50, n_contours=10)>"
      ]
     },
     "execution_count": 72,
     "metadata": {},
     "output_type": "execute_result"
    }
   ],
   "source": [
    "widgets.interact(plot_potential,\n",
    "                 k1 = widgets.FloatSlider(value = 1.0, min = 0, max = 5.0, step = 0.1, description = \"$k_1$\"),\n",
    "                 k2 = widgets.FloatSlider(value = 1.0, min = 0, max = 5.0, step = 0.1, description = \"$k_2$\"),\n",
    "                 c = widgets.FloatSlider(value = 0.0, min = -2.0, max = 2.0, step = 0.1, description = \"$c$\"),\n",
    "                 n_contours = widgets.IntSlider(value = 15, min = 5, max = 50, step = 5, description = \"Contours\"),\n",
    "                 n_points = widgets.IntSlider(value = 50, min = 10, max = 200, step = 5, description = \"Points\")\n",
    "                )"
   ]
  }
 ],
 "metadata": {
  "kernelspec": {
   "display_name": "Python 3 (ipykernel)",
   "language": "python",
   "name": "python3"
  },
  "language_info": {
   "codemirror_mode": {
    "name": "ipython",
    "version": 3
   },
   "file_extension": ".py",
   "mimetype": "text/x-python",
   "name": "python",
   "nbconvert_exporter": "python",
   "pygments_lexer": "ipython3",
   "version": "3.9.19"
  }
 },
 "nbformat": 4,
 "nbformat_minor": 5
}
